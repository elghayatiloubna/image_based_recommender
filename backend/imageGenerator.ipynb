{
  "cells": [
    {
      "cell_type": "code",
      "execution_count": 41,
      "metadata": {
        "id": "eVMbch4s82uh"
      },
      "outputs": [],
      "source": [
        "from io import BytesIO\n",
        "import IPython\n",
        "import json\n",
        "import os\n",
        "from PIL import Image\n",
        "import requests\n",
        "import time"
      ]
    },
    {
      "cell_type": "code",
      "execution_count": 42,
      "metadata": {
        "colab": {
          "base_uri": "https://localhost:8080/"
        },
        "id": "Rr9471Wy9NK-",
        "outputId": "3d08365f-3de3-4d19-ba3b-19bcdf8a42b1"
      },
      "outputs": [],
      "source": [
        "#@title Connect to the Stability API\n",
        "\n",
        "import getpass\n",
        "# @markdown To get your API key visit https://platform.stability.ai/account/keys\n",
        "STABILITY_KEY = 'sk-fpFvSMT2n7dfLe1rWrAL6W6NQ9JsTWZGK63CoTdJM94IfcC0'\n"
      ]
    },
    {
      "cell_type": "code",
      "execution_count": 43,
      "metadata": {
        "id": "1E1H73dw-fgT"
      },
      "outputs": [],
      "source": [
        "#@title Define functions\n",
        "\n",
        "def send_generation_request(\n",
        "    host,\n",
        "    params,\n",
        "    files = None\n",
        "):\n",
        "    headers = {\n",
        "        \"Accept\": \"image/*\",\n",
        "        \"Authorization\": f\"Bearer {STABILITY_KEY}\"\n",
        "    }\n",
        "\n",
        "    if files is None:\n",
        "        files = {}\n",
        "\n",
        "    # Encode parameters\n",
        "    image = params.pop(\"image\", None)\n",
        "    mask = params.pop(\"mask\", None)\n",
        "    if image is not None and image != '':\n",
        "        files[\"image\"] = open(image, 'rb')\n",
        "    if mask is not None and mask != '':\n",
        "        files[\"mask\"] = open(mask, 'rb')\n",
        "    if len(files)==0:\n",
        "        files[\"none\"] = ''\n",
        "\n",
        "    # Send request\n",
        "    print(f\"Sending REST request to {host}...\")\n",
        "    response = requests.post(\n",
        "        host,\n",
        "        headers=headers,\n",
        "        files=files,\n",
        "        data=params\n",
        "    )\n",
        "    if not response.ok:\n",
        "        raise Exception(f\"HTTP {response.status_code}: {response.text}\")\n",
        "\n",
        "    return response\n",
        "\n",
        "def send_async_generation_request(\n",
        "    host,\n",
        "    params,\n",
        "    files = None\n",
        "):\n",
        "    headers = {\n",
        "        \"Accept\": \"application/json\",\n",
        "        \"Authorization\": f\"Bearer {STABILITY_KEY}\"\n",
        "    }\n",
        "\n",
        "    if files is None:\n",
        "        files = {}\n",
        "\n",
        "    # Encode parameters\n",
        "    image = params.pop(\"image\", None)\n",
        "    mask = params.pop(\"mask\", None)\n",
        "    if image is not None and image != '':\n",
        "        files[\"image\"] = open(image, 'rb')\n",
        "    if mask is not None and mask != '':\n",
        "        files[\"mask\"] = open(mask, 'rb')\n",
        "    if len(files)==0:\n",
        "        files[\"none\"] = ''\n",
        "\n",
        "    # Send request\n",
        "    print(f\"Sending REST request to {host}...\")\n",
        "    response = requests.post(\n",
        "        host,\n",
        "        headers=headers,\n",
        "        files=files,\n",
        "        data=params\n",
        "    )\n",
        "    if not response.ok:\n",
        "        raise Exception(f\"HTTP {response.status_code}: {response.text}\")\n",
        "\n",
        "    # Process async response\n",
        "    response_dict = json.loads(response.text)\n",
        "    generation_id = response_dict.get(\"id\", None)\n",
        "    assert generation_id is not None, \"Expected id in response\"\n",
        "\n",
        "    # Loop until result or timeout\n",
        "    timeout = int(os.getenv(\"WORKER_TIMEOUT\", 500))\n",
        "    start = time.time()\n",
        "    status_code = 202\n",
        "    while status_code == 202:\n",
        "        print(f\"Polling results at https://api.stability.ai/v2beta/results/{generation_id}\")\n",
        "        response = requests.get(\n",
        "            f\"https://api.stability.ai/v2beta/results/{generation_id}\",\n",
        "            headers={\n",
        "                **headers,\n",
        "                \"Accept\": \"*/*\"\n",
        "            },\n",
        "        )\n",
        "\n",
        "        if not response.ok:\n",
        "            raise Exception(f\"HTTP {response.status_code}: {response.text}\")\n",
        "        status_code = response.status_code\n",
        "        time.sleep(10)\n",
        "        if time.time() - start > timeout:\n",
        "            raise Exception(f\"Timeout after {timeout} seconds\")\n",
        "\n",
        "    return response"
      ]
    },
    {
      "cell_type": "code",
      "execution_count": null,
      "metadata": {
        "id": "V5gBZGQ6ISRK"
      },
      "outputs": [
        {
          "name": "stdout",
          "output_type": "stream",
          "text": [
            " * Serving Flask app '__main__'\n",
            " * Debug mode: off\n"
          ]
        },
        {
          "name": "stderr",
          "output_type": "stream",
          "text": [
            "WARNING: This is a development server. Do not use it in a production deployment. Use a production WSGI server instead.\n",
            " * Running on http://127.0.0.1:5000\n",
            "Press CTRL+C to quit\n",
            "127.0.0.1 - - [03/Jan/2025 12:03:35] \"OPTIONS /generate-image HTTP/1.1\" 200 -\n"
          ]
        },
        {
          "name": "stdout",
          "output_type": "stream",
          "text": [
            "Sending REST request to https://api.stability.ai/v2beta/stable-image/generate/ultra...\n"
          ]
        },
        {
          "name": "stderr",
          "output_type": "stream",
          "text": [
            "127.0.0.1 - - [03/Jan/2025 12:03:39] \"POST /generate-image HTTP/1.1\" 500 -\n"
          ]
        }
      ],
      "source": [
        "from flask import Flask, request, jsonify\n",
        "from flask_ngrok import run_with_ngrok\n",
        "import requests\n",
        "import base64\n",
        "from io import BytesIO\n",
        "from flask_cors import CORS\n",
        "\n",
        "app = Flask(__name__)\n",
        "CORS(app)\n",
        "\n",
        "# Paramètres par défaut pour la génération d'image\n",
        "DEFAULT_PARAMS = {\n",
        "    \"negative_prompt\": \"\",\n",
        "    \"aspect_ratio\": \"3:2\",\n",
        "    \"seed\": 0,\n",
        "    \"output_format\": \"jpeg\"\n",
        "}\n",
        "\n",
        "STABLE_IMAGE_API_URL = \"https://api.stability.ai/v2beta/stable-image/generate/ultra\"\n",
        "\n",
        "\n",
        "\n",
        "@app.route('/generate-image', methods=['POST'])\n",
        "def generate_image():\n",
        "    # Récupérer le prompt depuis la requête front-end\n",
        "    data = request.json\n",
        "    prompt = data.get(\"prompt\", \"\")\n",
        "\n",
        "    if not prompt:\n",
        "        return jsonify({\"error\": \"Le prompt est requis\"}), 400\n",
        "\n",
        "    # Préparer les paramètres pour la requête\n",
        "    params = {\n",
        "        \"prompt\": prompt,\n",
        "        **DEFAULT_PARAMS\n",
        "    }\n",
        "\n",
        "    try:\n",
        "        # Envoi de la requête à l'API\n",
        "        response = send_generation_request(STABLE_IMAGE_API_URL, params)\n",
        "        print(\"response\", response)\n",
        "        # Décoder la réponse\n",
        "        output_image = response.content\n",
        "        finish_reason = response.headers.get(\"finish-reason\")\n",
        "        seed = response.headers.get(\"seed\")\n",
        "\n",
        "        # Vérification du filtre NSFW\n",
        "        if finish_reason == \"CONTENT_FILTERED\":\n",
        "            return jsonify({\"error\": \"L'image générée a été filtrée pour contenu NSFW\"}), 400\n",
        "\n",
        "        # Encoder l'image en Base64\n",
        "        encoded_image = base64.b64encode(output_image).decode('utf-8')\n",
        "\n",
        "        # Retourner l'image encodée avec le seed utilisé\n",
        "        return jsonify({\n",
        "            \"image\": encoded_image,\n",
        "            \"seed\": seed,\n",
        "            \"message\": \"Image générée avec succès\"\n",
        "        })\n",
        "\n",
        "    except Exception as e:\n",
        "        return jsonify({\"error\": str(e)}), 500\n",
        "\n",
        "if __name__ == \"__main__\":\n",
        "    app.run()\n"
      ]
    }
  ],
  "metadata": {
    "colab": {
      "provenance": []
    },
    "kernelspec": {
      "display_name": "Python 3",
      "name": "python3"
    },
    "language_info": {
      "codemirror_mode": {
        "name": "ipython",
        "version": 3
      },
      "file_extension": ".py",
      "mimetype": "text/x-python",
      "name": "python",
      "nbconvert_exporter": "python",
      "pygments_lexer": "ipython3",
      "version": "3.11.0"
    }
  },
  "nbformat": 4,
  "nbformat_minor": 0
}
